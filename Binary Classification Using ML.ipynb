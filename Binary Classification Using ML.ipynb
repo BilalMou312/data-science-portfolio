{
 "cells": [
  {
   "cell_type": "markdown",
   "id": "e4aef348",
   "metadata": {},
   "source": [
    "## Portfolio Part 3"
   ]
  },
  {
   "cell_type": "markdown",
   "id": "0619c315",
   "metadata": {},
   "source": [
    "In this Portfolio task you will continue working with the movielens data collected by the GroupLens Research Project at the University of Minnesota. The columns in the dataset are a little bit different from the ones provided in the previous Portfolio tasks, where the 'rating' column is replaced by the 'feedback' column. There are two values regarding the 'feedback' with 1 indicating the user likes the corresponding movie; otherwise 0. \n",
    "\n",
    "The header of the csv file is shown below. \n",
    "\n",
    "| userId | age | gender | occupation| movieId | feedback | genre | timestamp |\n",
    "    | ---- | ---- | ---- | ---- | ---- | ---- | ---- | ---- | \n",
    "    \n",
    "#### Description of Fields\n",
    "\n",
    "* __userId__ - the user's id\n",
    "* __age__ - the user's age\n",
    "* __gender__ - the user's gender\n",
    "* __occupation__ - the user's occupation\n",
    "* __movieId__ - the movie's id\n",
    "* __feedback__ - the user's feedback towards the movie (1 means 'like'; 0 means 'dislike')\n",
    "* __genre__ - the genre of the movie\n",
    "* __timestamp__ - the timestamp indicating when the user rated the movie\n",
    "\n",
    "Note that, a same user (i.e., a same userId) corresponds to a same age/gender/occupation; a same movie (i.e., a same movieId) corresponds to a same genre; a same user (i.e., a same userId) may like multiple movies and a same movie (i.e., a same movieId) may be preferred by multiple users.\n",
    "\n",
    "\n",
    "Your high level goal in this notebook is to try to build and evaluate predictive models for feedback from available features - predict the value of the __feedback__ field in the data from some of the other fields. Explore the data, build a model using a selection of features and then do some work on finding out which features provide the most accurate results.\n",
    "\n",
    "Note: you are not being evaluated on the ___accuracy___ of the model but on the ___process___ that you use to generate it. Please use a ___simple Logistic Regression model___ and ___one of the more advanced methods___ covered in recent weeks. Accordingly, discuss the performance of the simple and advanced methods."
   ]
  },
  {
   "cell_type": "code",
   "execution_count": 90,
   "id": "47be0d08",
   "metadata": {},
   "outputs": [],
   "source": [
    "import pandas as pd\n",
    "import numpy as np\n",
    "import matplotlib.pyplot as plt\n",
    "import seaborn as sns\n",
    "%matplotlib inline\n",
    "from sklearn.linear_model import LogisticRegression\n",
    "from sklearn.model_selection import train_test_split\n",
    "from sklearn.metrics import mean_squared_error, r2_score\n",
    "from sklearn import linear_model\n",
    "from sklearn.metrics import confusion_matrix, accuracy_score\n",
    "from sklearn.feature_selection import RFE\n",
    "from sklearn.model_selection import train_test_split\n",
    "from sklearn.datasets import make_classification\n",
    "from sklearn.neighbors import KNeighborsClassifier\n",
    "from sklearn.metrics import accuracy_score\n",
    "\n",
    "from sklearn.model_selection import cross_val_score\n",
    "from sklearn.model_selection import GridSearchCV\n",
    "\n",
    "import warnings\n",
    "warnings.filterwarnings('ignore')"
   ]
  },
  {
   "cell_type": "code",
   "execution_count": 91,
   "id": "84c57251",
   "metadata": {},
   "outputs": [
    {
     "data": {
      "text/html": [
       "<div>\n",
       "<style scoped>\n",
       "    .dataframe tbody tr th:only-of-type {\n",
       "        vertical-align: middle;\n",
       "    }\n",
       "\n",
       "    .dataframe tbody tr th {\n",
       "        vertical-align: top;\n",
       "    }\n",
       "\n",
       "    .dataframe thead th {\n",
       "        text-align: right;\n",
       "    }\n",
       "</style>\n",
       "<table border=\"1\" class=\"dataframe\">\n",
       "  <thead>\n",
       "    <tr style=\"text-align: right;\">\n",
       "      <th></th>\n",
       "      <th>userId</th>\n",
       "      <th>age</th>\n",
       "      <th>gender</th>\n",
       "      <th>occupation</th>\n",
       "      <th>movieId</th>\n",
       "      <th>feedback</th>\n",
       "      <th>genre</th>\n",
       "      <th>timestamp</th>\n",
       "    </tr>\n",
       "  </thead>\n",
       "  <tbody>\n",
       "    <tr>\n",
       "      <th>0</th>\n",
       "      <td>196</td>\n",
       "      <td>49</td>\n",
       "      <td>M</td>\n",
       "      <td>writer</td>\n",
       "      <td>242</td>\n",
       "      <td>0</td>\n",
       "      <td>Comedy</td>\n",
       "      <td>881250949</td>\n",
       "    </tr>\n",
       "    <tr>\n",
       "      <th>1</th>\n",
       "      <td>186</td>\n",
       "      <td>39</td>\n",
       "      <td>F</td>\n",
       "      <td>executive</td>\n",
       "      <td>302</td>\n",
       "      <td>0</td>\n",
       "      <td>Crime</td>\n",
       "      <td>891717742</td>\n",
       "    </tr>\n",
       "    <tr>\n",
       "      <th>2</th>\n",
       "      <td>22</td>\n",
       "      <td>25</td>\n",
       "      <td>M</td>\n",
       "      <td>writer</td>\n",
       "      <td>377</td>\n",
       "      <td>0</td>\n",
       "      <td>Children</td>\n",
       "      <td>878887116</td>\n",
       "    </tr>\n",
       "    <tr>\n",
       "      <th>3</th>\n",
       "      <td>244</td>\n",
       "      <td>28</td>\n",
       "      <td>M</td>\n",
       "      <td>technician</td>\n",
       "      <td>51</td>\n",
       "      <td>0</td>\n",
       "      <td>Romance</td>\n",
       "      <td>880606923</td>\n",
       "    </tr>\n",
       "    <tr>\n",
       "      <th>4</th>\n",
       "      <td>166</td>\n",
       "      <td>47</td>\n",
       "      <td>M</td>\n",
       "      <td>educator</td>\n",
       "      <td>346</td>\n",
       "      <td>0</td>\n",
       "      <td>Drama</td>\n",
       "      <td>886397596</td>\n",
       "    </tr>\n",
       "    <tr>\n",
       "      <th>5</th>\n",
       "      <td>298</td>\n",
       "      <td>44</td>\n",
       "      <td>M</td>\n",
       "      <td>executive</td>\n",
       "      <td>474</td>\n",
       "      <td>1</td>\n",
       "      <td>War</td>\n",
       "      <td>884182806</td>\n",
       "    </tr>\n",
       "    <tr>\n",
       "      <th>6</th>\n",
       "      <td>115</td>\n",
       "      <td>31</td>\n",
       "      <td>M</td>\n",
       "      <td>engineer</td>\n",
       "      <td>265</td>\n",
       "      <td>0</td>\n",
       "      <td>Action</td>\n",
       "      <td>881171488</td>\n",
       "    </tr>\n",
       "    <tr>\n",
       "      <th>7</th>\n",
       "      <td>253</td>\n",
       "      <td>26</td>\n",
       "      <td>F</td>\n",
       "      <td>librarian</td>\n",
       "      <td>465</td>\n",
       "      <td>1</td>\n",
       "      <td>Adventure</td>\n",
       "      <td>891628467</td>\n",
       "    </tr>\n",
       "    <tr>\n",
       "      <th>8</th>\n",
       "      <td>305</td>\n",
       "      <td>23</td>\n",
       "      <td>M</td>\n",
       "      <td>programmer</td>\n",
       "      <td>451</td>\n",
       "      <td>0</td>\n",
       "      <td>Romance</td>\n",
       "      <td>886324817</td>\n",
       "    </tr>\n",
       "    <tr>\n",
       "      <th>9</th>\n",
       "      <td>6</td>\n",
       "      <td>42</td>\n",
       "      <td>M</td>\n",
       "      <td>executive</td>\n",
       "      <td>86</td>\n",
       "      <td>0</td>\n",
       "      <td>Drama</td>\n",
       "      <td>883603013</td>\n",
       "    </tr>\n",
       "  </tbody>\n",
       "</table>\n",
       "</div>"
      ],
      "text/plain": [
       "   userId  age gender  occupation  movieId  feedback      genre  timestamp\n",
       "0     196   49      M      writer      242         0     Comedy  881250949\n",
       "1     186   39      F   executive      302         0      Crime  891717742\n",
       "2      22   25      M      writer      377         0   Children  878887116\n",
       "3     244   28      M  technician       51         0    Romance  880606923\n",
       "4     166   47      M    educator      346         0      Drama  886397596\n",
       "5     298   44      M   executive      474         1        War  884182806\n",
       "6     115   31      M    engineer      265         0     Action  881171488\n",
       "7     253   26      F   librarian      465         1  Adventure  891628467\n",
       "8     305   23      M  programmer      451         0    Romance  886324817\n",
       "9       6   42      M   executive       86         0      Drama  883603013"
      ]
     },
     "execution_count": 91,
     "metadata": {},
     "output_type": "execute_result"
    }
   ],
   "source": [
    "df = pd.read_csv('movielens_data_feedback.csv')\n",
    "df.head(10)"
   ]
  },
  {
   "cell_type": "code",
   "execution_count": 92,
   "id": "3910301b",
   "metadata": {},
   "outputs": [
    {
     "name": "stdout",
     "output_type": "stream",
     "text": [
      "the length of the new data : 100000\n"
     ]
    }
   ],
   "source": [
    "print(\"the length of the new data :\",len(df))"
   ]
  },
  {
   "cell_type": "code",
   "execution_count": 93,
   "id": "d59a9ac0",
   "metadata": {},
   "outputs": [
    {
     "data": {
      "text/plain": [
       "(100000, 8)"
      ]
     },
     "execution_count": 93,
     "metadata": {},
     "output_type": "execute_result"
    }
   ],
   "source": [
    "df.shape"
   ]
  },
  {
   "cell_type": "code",
   "execution_count": 94,
   "id": "51b25487",
   "metadata": {
    "scrolled": true
   },
   "outputs": [
    {
     "data": {
      "text/html": [
       "<div>\n",
       "<style scoped>\n",
       "    .dataframe tbody tr th:only-of-type {\n",
       "        vertical-align: middle;\n",
       "    }\n",
       "\n",
       "    .dataframe tbody tr th {\n",
       "        vertical-align: top;\n",
       "    }\n",
       "\n",
       "    .dataframe thead th {\n",
       "        text-align: right;\n",
       "    }\n",
       "</style>\n",
       "<table border=\"1\" class=\"dataframe\">\n",
       "  <thead>\n",
       "    <tr style=\"text-align: right;\">\n",
       "      <th></th>\n",
       "      <th>userId</th>\n",
       "      <th>age</th>\n",
       "      <th>movieId</th>\n",
       "      <th>feedback</th>\n",
       "      <th>timestamp</th>\n",
       "    </tr>\n",
       "  </thead>\n",
       "  <tbody>\n",
       "    <tr>\n",
       "      <th>count</th>\n",
       "      <td>100000.00000</td>\n",
       "      <td>100000.000000</td>\n",
       "      <td>100000.000000</td>\n",
       "      <td>100000.000000</td>\n",
       "      <td>1.000000e+05</td>\n",
       "    </tr>\n",
       "    <tr>\n",
       "      <th>mean</th>\n",
       "      <td>462.48475</td>\n",
       "      <td>32.969850</td>\n",
       "      <td>425.530130</td>\n",
       "      <td>0.553750</td>\n",
       "      <td>8.835289e+08</td>\n",
       "    </tr>\n",
       "    <tr>\n",
       "      <th>std</th>\n",
       "      <td>266.61442</td>\n",
       "      <td>11.562623</td>\n",
       "      <td>330.798356</td>\n",
       "      <td>0.497105</td>\n",
       "      <td>5.343856e+06</td>\n",
       "    </tr>\n",
       "    <tr>\n",
       "      <th>min</th>\n",
       "      <td>1.00000</td>\n",
       "      <td>7.000000</td>\n",
       "      <td>1.000000</td>\n",
       "      <td>0.000000</td>\n",
       "      <td>8.747247e+08</td>\n",
       "    </tr>\n",
       "    <tr>\n",
       "      <th>25%</th>\n",
       "      <td>254.00000</td>\n",
       "      <td>24.000000</td>\n",
       "      <td>175.000000</td>\n",
       "      <td>0.000000</td>\n",
       "      <td>8.794487e+08</td>\n",
       "    </tr>\n",
       "    <tr>\n",
       "      <th>50%</th>\n",
       "      <td>447.00000</td>\n",
       "      <td>30.000000</td>\n",
       "      <td>322.000000</td>\n",
       "      <td>1.000000</td>\n",
       "      <td>8.828269e+08</td>\n",
       "    </tr>\n",
       "    <tr>\n",
       "      <th>75%</th>\n",
       "      <td>682.00000</td>\n",
       "      <td>40.000000</td>\n",
       "      <td>631.000000</td>\n",
       "      <td>1.000000</td>\n",
       "      <td>8.882600e+08</td>\n",
       "    </tr>\n",
       "    <tr>\n",
       "      <th>max</th>\n",
       "      <td>943.00000</td>\n",
       "      <td>73.000000</td>\n",
       "      <td>1682.000000</td>\n",
       "      <td>1.000000</td>\n",
       "      <td>8.932866e+08</td>\n",
       "    </tr>\n",
       "  </tbody>\n",
       "</table>\n",
       "</div>"
      ],
      "text/plain": [
       "             userId            age        movieId       feedback     timestamp\n",
       "count  100000.00000  100000.000000  100000.000000  100000.000000  1.000000e+05\n",
       "mean      462.48475      32.969850     425.530130       0.553750  8.835289e+08\n",
       "std       266.61442      11.562623     330.798356       0.497105  5.343856e+06\n",
       "min         1.00000       7.000000       1.000000       0.000000  8.747247e+08\n",
       "25%       254.00000      24.000000     175.000000       0.000000  8.794487e+08\n",
       "50%       447.00000      30.000000     322.000000       1.000000  8.828269e+08\n",
       "75%       682.00000      40.000000     631.000000       1.000000  8.882600e+08\n",
       "max       943.00000      73.000000    1682.000000       1.000000  8.932866e+08"
      ]
     },
     "execution_count": 94,
     "metadata": {},
     "output_type": "execute_result"
    }
   ],
   "source": [
    "df.describe()"
   ]
  },
  {
   "cell_type": "code",
   "execution_count": 95,
   "id": "146dc18a",
   "metadata": {
    "scrolled": true
   },
   "outputs": [
    {
     "name": "stdout",
     "output_type": "stream",
     "text": [
      "<class 'pandas.core.frame.DataFrame'>\n",
      "RangeIndex: 100000 entries, 0 to 99999\n",
      "Data columns (total 8 columns):\n",
      " #   Column      Non-Null Count   Dtype \n",
      "---  ------      --------------   ----- \n",
      " 0   userId      100000 non-null  int64 \n",
      " 1   age         100000 non-null  int64 \n",
      " 2   gender      100000 non-null  object\n",
      " 3   occupation  100000 non-null  object\n",
      " 4   movieId     100000 non-null  int64 \n",
      " 5   feedback    100000 non-null  int64 \n",
      " 6   genre       100000 non-null  object\n",
      " 7   timestamp   100000 non-null  int64 \n",
      "dtypes: int64(5), object(3)\n",
      "memory usage: 6.1+ MB\n"
     ]
    }
   ],
   "source": [
    "df.info()"
   ]
  },
  {
   "cell_type": "code",
   "execution_count": 96,
   "id": "4ddc24cb",
   "metadata": {
    "scrolled": false
   },
   "outputs": [
    {
     "data": {
      "text/plain": [
       "[Text(0.5, 1.0, 'count of every feedback')]"
      ]
     },
     "execution_count": 96,
     "metadata": {},
     "output_type": "execute_result"
    },
    {
     "data": {
      "image/png": "[encoded data removed]",
      "text/plain": [
       "<Figure size 432x288 with 1 Axes>"
      ]
     },
     "metadata": {
      "needs_background": "light"
     },
     "output_type": "display_data"
    }
   ],
   "source": [
    "sns.countplot(x=df[\"feedback\"]).set(title='count of every feedback')"
   ]
  },
  {
   "cell_type": "markdown",
   "id": "5837f188",
   "metadata": {},
   "source": [
    "# Logistical Regression model"
   ]
  },
  {
   "cell_type": "code",
   "execution_count": 97,
   "id": "5891b4f2",
   "metadata": {
    "scrolled": true
   },
   "outputs": [
    {
     "data": {
      "text/html": [
       "<div>\n",
       "<style scoped>\n",
       "    .dataframe tbody tr th:only-of-type {\n",
       "        vertical-align: middle;\n",
       "    }\n",
       "\n",
       "    .dataframe tbody tr th {\n",
       "        vertical-align: top;\n",
       "    }\n",
       "\n",
       "    .dataframe thead th {\n",
       "        text-align: right;\n",
       "    }\n",
       "</style>\n",
       "<table border=\"1\" class=\"dataframe\">\n",
       "  <thead>\n",
       "    <tr style=\"text-align: right;\">\n",
       "      <th></th>\n",
       "      <th>genre</th>\n",
       "      <th>genre_code</th>\n",
       "      <th>occupation</th>\n",
       "      <th>occupation_code</th>\n",
       "      <th>gender</th>\n",
       "      <th>gender_code</th>\n",
       "    </tr>\n",
       "  </thead>\n",
       "  <tbody>\n",
       "    <tr>\n",
       "      <th>0</th>\n",
       "      <td>Comedy</td>\n",
       "      <td>4</td>\n",
       "      <td>writer</td>\n",
       "      <td>20</td>\n",
       "      <td>M</td>\n",
       "      <td>1</td>\n",
       "    </tr>\n",
       "    <tr>\n",
       "      <th>1</th>\n",
       "      <td>Crime</td>\n",
       "      <td>5</td>\n",
       "      <td>executive</td>\n",
       "      <td>6</td>\n",
       "      <td>F</td>\n",
       "      <td>0</td>\n",
       "    </tr>\n",
       "    <tr>\n",
       "      <th>2</th>\n",
       "      <td>Children</td>\n",
       "      <td>3</td>\n",
       "      <td>writer</td>\n",
       "      <td>20</td>\n",
       "      <td>M</td>\n",
       "      <td>1</td>\n",
       "    </tr>\n",
       "    <tr>\n",
       "      <th>3</th>\n",
       "      <td>Romance</td>\n",
       "      <td>13</td>\n",
       "      <td>technician</td>\n",
       "      <td>19</td>\n",
       "      <td>M</td>\n",
       "      <td>1</td>\n",
       "    </tr>\n",
       "    <tr>\n",
       "      <th>4</th>\n",
       "      <td>Drama</td>\n",
       "      <td>7</td>\n",
       "      <td>educator</td>\n",
       "      <td>3</td>\n",
       "      <td>M</td>\n",
       "      <td>1</td>\n",
       "    </tr>\n",
       "    <tr>\n",
       "      <th>5</th>\n",
       "      <td>War</td>\n",
       "      <td>16</td>\n",
       "      <td>executive</td>\n",
       "      <td>6</td>\n",
       "      <td>M</td>\n",
       "      <td>1</td>\n",
       "    </tr>\n",
       "    <tr>\n",
       "      <th>6</th>\n",
       "      <td>Action</td>\n",
       "      <td>0</td>\n",
       "      <td>engineer</td>\n",
       "      <td>4</td>\n",
       "      <td>M</td>\n",
       "      <td>1</td>\n",
       "    </tr>\n",
       "    <tr>\n",
       "      <th>7</th>\n",
       "      <td>Adventure</td>\n",
       "      <td>1</td>\n",
       "      <td>librarian</td>\n",
       "      <td>10</td>\n",
       "      <td>F</td>\n",
       "      <td>0</td>\n",
       "    </tr>\n",
       "    <tr>\n",
       "      <th>8</th>\n",
       "      <td>Romance</td>\n",
       "      <td>13</td>\n",
       "      <td>programmer</td>\n",
       "      <td>14</td>\n",
       "      <td>M</td>\n",
       "      <td>1</td>\n",
       "    </tr>\n",
       "    <tr>\n",
       "      <th>9</th>\n",
       "      <td>Drama</td>\n",
       "      <td>7</td>\n",
       "      <td>executive</td>\n",
       "      <td>6</td>\n",
       "      <td>M</td>\n",
       "      <td>1</td>\n",
       "    </tr>\n",
       "    <tr>\n",
       "      <th>10</th>\n",
       "      <td>Sci-Fi</td>\n",
       "      <td>14</td>\n",
       "      <td>administrator</td>\n",
       "      <td>0</td>\n",
       "      <td>F</td>\n",
       "      <td>0</td>\n",
       "    </tr>\n",
       "  </tbody>\n",
       "</table>\n",
       "</div>"
      ],
      "text/plain": [
       "        genre  genre_code     occupation  occupation_code gender  gender_code\n",
       "0      Comedy           4         writer               20      M            1\n",
       "1       Crime           5      executive                6      F            0\n",
       "2    Children           3         writer               20      M            1\n",
       "3     Romance          13     technician               19      M            1\n",
       "4       Drama           7       educator                3      M            1\n",
       "5         War          16      executive                6      M            1\n",
       "6      Action           0       engineer                4      M            1\n",
       "7   Adventure           1      librarian               10      F            0\n",
       "8     Romance          13     programmer               14      M            1\n",
       "9       Drama           7      executive                6      M            1\n",
       "10     Sci-Fi          14  administrator                0      F            0"
      ]
     },
     "execution_count": 97,
     "metadata": {},
     "output_type": "execute_result"
    }
   ],
   "source": [
    "#change desired columns into int type \n",
    "from sklearn.preprocessing import OrdinalEncoder\n",
    "\n",
    "\n",
    "ord_enc = OrdinalEncoder(dtype=int)\n",
    "df[[\"genre_code\", \"gender_code\", \"occupation_code\"]] = ord_enc.fit_transform(df[[\"genre\", \"gender\", \"occupation\"]])\n",
    "df[[\"genre\", \"genre_code\", \"occupation\", \"occupation_code\", \"gender\", \"gender_code\"]].head(11)"
   ]
  },
  {
   "cell_type": "code",
   "execution_count": 98,
   "id": "553483ea",
   "metadata": {},
   "outputs": [
    {
     "data": {
      "text/plain": [
       "<bound method NDFrame.head of        userId  age  movieId  feedback  timestamp  genre_code  gender_code  \\\n",
       "0         196   49      242         0  881250949           4            1   \n",
       "1         186   39      302         0  891717742           5            0   \n",
       "2          22   25      377         0  878887116           3            1   \n",
       "3         244   28       51         0  880606923          13            1   \n",
       "4         166   47      346         0  886397596           7            1   \n",
       "...       ...  ...      ...       ...        ...         ...          ...   \n",
       "99995     880   13      476         0  880175444           4            1   \n",
       "99996     716   36      204         1  879795543          14            0   \n",
       "99997     276   21     1090         0  874795795          15            1   \n",
       "99998      13   47      225         0  882399156           4            1   \n",
       "99999      12   28      203         0  879959583          17            0   \n",
       "\n",
       "       occupation_code  \n",
       "0                   20  \n",
       "1                    6  \n",
       "2                   20  \n",
       "3                   19  \n",
       "4                    3  \n",
       "...                ...  \n",
       "99995               18  \n",
       "99996                0  \n",
       "99997               18  \n",
       "99998                3  \n",
       "99999               13  \n",
       "\n",
       "[100000 rows x 8 columns]>"
      ]
     },
     "execution_count": 98,
     "metadata": {},
     "output_type": "execute_result"
    }
   ],
   "source": [
    "#convert our desired columns into numerical values\n",
    "\n",
    "#gender\n",
    "df['gender'] = df['gender'].astype('category')\n",
    "df['gender'] = df['gender'].cat.codes\n",
    "\n",
    "#occupation\n",
    "df['occupation'] = df['occupation'].astype('category')\n",
    "df['occupation'] = df['occupation'].cat.codes\n",
    "\n",
    "#genre\n",
    "df['genre'] = df['genre'].astype('category')\n",
    "df['genre'] = df['genre'].cat.codes\n",
    "\n",
    "df.drop(['gender','occupation','genre'], axis=1, inplace=True)\n",
    "\n",
    "df.head"
   ]
  },
  {
   "cell_type": "markdown",
   "id": "184c9cde",
   "metadata": {},
   "source": [
    "## we will now use the RFE estimator to use the 3 best features we could find to build our logsitic regression model\n"
   ]
  },
  {
   "cell_type": "code",
   "execution_count": 160,
   "id": "20a472a0",
   "metadata": {},
   "outputs": [
    {
     "name": "stdout",
     "output_type": "stream",
     "text": [
      "shape of the training data : (80000, 8)\n",
      "shape of the testing data : (20000, 8)\n"
     ]
    }
   ],
   "source": [
    "#spliting our model into train and test\n",
    "train1, test1 = train_test_split(df, test_size=0.2, random_state=142)\n",
    "print(\"shape of the training data :\",train1.shape)\n",
    "print(\"shape of the testing data :\",test1.shape)"
   ]
  },
  {
   "cell_type": "code",
   "execution_count": 162,
   "id": "32a17a51",
   "metadata": {},
   "outputs": [],
   "source": [
    "# Set up an experiment with the feedback data\n",
    "feature_cols = np.array(['age', 'userId', 'movieId','timestamp','genre_code','gender_code','occupation_code'])\n",
    "X = df[feature_cols]\n",
    "y = df['feedback']\n",
    "\n",
    "#this split of data is only for the RFE\n",
    "\n",
    "X_train, X_test, y_train, y_test = train_test_split(X, y, test_size=0.2,random_state=142)\n"
   ]
  },
  {
   "cell_type": "code",
   "execution_count": 117,
   "id": "f824e51e",
   "metadata": {},
   "outputs": [
    {
     "name": "stdout",
     "output_type": "stream",
     "text": [
      "Selected features: ['age' 'genre_code' 'gender_code']\n",
      "Coeffs: [ 0.00164585  0.00410019 -0.00268293]\n",
      "MSE: 0.2463256197460694\n",
      "R^2: 0.0031779967405553\n"
     ]
    }
   ],
   "source": [
    "from sklearn.linear_model import LinearRegression\n",
    "\n",
    "estimator = LinearRegression()\n",
    "selector = RFE(estimator, 3)  # select 3 features for us\n",
    "selector = selector.fit(X, y)\n",
    "\n",
    "supp = selector.get_support()\n",
    "print(\"Selected features:\", feature_cols[supp])\n",
    "print(\"Coeffs:\", selector.estimator_.coef_)\n",
    "# test the model\n",
    "predicted = selector.predict(X)\n",
    "print(\"MSE:\", mean_squared_error(y, predicted))\n",
    "print(\"R^2:\", r2_score(y, predicted))"
   ]
  },
  {
   "cell_type": "code",
   "execution_count": 118,
   "id": "0dccef57",
   "metadata": {
    "scrolled": true
   },
   "outputs": [
    {
     "name": "stdout",
     "output_type": "stream",
     "text": [
      "X_train shape:  (80000, 3)\n",
      "y_train shape:  (80000,)\n",
      "X_test shape:  (20000, 3)\n",
      "y_test shape:  (20000,)\n",
      "       age  genre_code  gender_code\n",
      "36772   51           4            1\n",
      "43891   46           7            1\n",
      "52044   29           4            1\n",
      "14810   60          12            1\n",
      "64521   37          13            0\n",
      "36772    0\n",
      "43891    1\n",
      "52044    0\n",
      "14810    0\n",
      "64521    1\n",
      "Name: feedback, dtype: int64\n"
     ]
    }
   ],
   "source": [
    "#build our logistic model with our desired features to predict feedback\n",
    "feature_cols=['age','genre_code','gender_code']\n",
    "X_train = train1[feature_cols]\n",
    "y_train = train1['feedback']\n",
    "X_test = test1[feature_cols]\n",
    "y_test = test1['feedback']\n",
    "\n",
    "print(\"X_train shape: \", X_train.shape)\n",
    "print(\"y_train shape: \", y_train.shape)\n",
    "print(\"X_test shape: \", X_test.shape)\n",
    "print(\"y_test shape: \", y_test.shape)\n",
    "print(X_train.head())\n",
    "print(y_train.head())"
   ]
  },
  {
   "cell_type": "code",
   "execution_count": 119,
   "id": "cbc9358f",
   "metadata": {},
   "outputs": [
    {
     "data": {
      "text/plain": [
       "LogisticRegression()"
      ]
     },
     "execution_count": 119,
     "metadata": {},
     "output_type": "execute_result"
    }
   ],
   "source": [
    "# Training Logistic Regression model\n",
    "model = LogisticRegression()\n",
    "model.fit(X_train, y_train)"
   ]
  },
  {
   "cell_type": "code",
   "execution_count": 120,
   "id": "6678159f",
   "metadata": {},
   "outputs": [],
   "source": [
    "# Doing predictions on train and test set\n",
    "y_hat_train = model.predict(X_train)\n",
    "y_hat_test = model.predict(X_test)"
   ]
  },
  {
   "cell_type": "code",
   "execution_count": 121,
   "id": "e3ae2b0e",
   "metadata": {},
   "outputs": [
    {
     "name": "stdout",
     "output_type": "stream",
     "text": [
      "Accuracy score on training set:  0.55155\n",
      "Accuracy score on testing set:  0.5572\n"
     ]
    }
   ],
   "source": [
    "# Evaluate the performance of your trained model\n",
    "print(\"Accuracy score on training set: \", accuracy_score(y_train, y_hat_train))\n",
    "print(\"Accuracy score on testing set: \", accuracy_score(y_test, y_hat_test))\n",
    "\n"
   ]
  },
  {
   "cell_type": "code",
   "execution_count": 122,
   "id": "cb21c4c0",
   "metadata": {
    "scrolled": false
   },
   "outputs": [
    {
     "data": {
      "text/plain": [
       "<BarContainer object of 2 artists>"
      ]
     },
     "execution_count": 122,
     "metadata": {},
     "output_type": "execute_result"
    },
    {
     "data": {
      "image/png": "[encoded data removed]",
      "text/plain": [
       "<Figure size 648x360 with 1 Axes>"
      ]
     },
     "metadata": {},
     "output_type": "display_data"
    }
   ],
   "source": [
    "#place our accuracy scores in our 2 new variables\n",
    "\n",
    "train_score= accuracy_score(y_train, y_hat_train)\n",
    "test_score=accuracy_score(y_test, y_hat_test)\n",
    " \n",
    "#creat a new dataframe to graph our scores\n",
    "accuracy_df = pd.DataFrame({'accuracy score': [train_score,test_score]}, index=['training_accuracy', 'testing_accuracy'])\n",
    "\n",
    "#plot our graphs\n",
    "sns.set(style=\"whitegrid\")\n",
    "plt.figure(figsize=(9,5))\n",
    "plt.ylim(0,1)\n",
    "plt.xlabel('Different sets', size=15)\n",
    "plt.ylabel('accuracy', size=15)\n",
    "plt.title(\"visualisation of accuracy\", size=15)\n",
    "plt.bar(data=accuracy_df, height='accuracy score', x=['train_score', 'test_score'], color='c')\n",
    "\n"
   ]
  },
  {
   "cell_type": "markdown",
   "id": "7335a8df",
   "metadata": {},
   "source": [
    "### The accuracy score of both sets are similar however, they are also low scores of around 0.55 which is slightly above the threshhold of 0.5 however it is still considered low"
   ]
  },
  {
   "cell_type": "code",
   "execution_count": 123,
   "id": "4159cade",
   "metadata": {
    "scrolled": true
   },
   "outputs": [
    {
     "name": "stdout",
     "output_type": "stream",
     "text": [
      "Confusion matrix on test set: \n",
      "[[  151  8693]\n",
      " [  163 10993]]\n",
      "Confusion matrix on train set: \n",
      "[[  570 35211]\n",
      " [  665 43554]]\n"
     ]
    }
   ],
   "source": [
    "# Checking confusion matrix\n",
    "print(\"Confusion matrix on test set: \")\n",
    "print(confusion_matrix(y_test, y_hat_test))\n",
    "print(\"Confusion matrix on train set: \")\n",
    "print(confusion_matrix(y_train, y_hat_train))"
   ]
  },
  {
   "cell_type": "markdown",
   "id": "564bd533",
   "metadata": {},
   "source": [
    "## The confusion matrix for both sets also shows that the results are slightly above the threshhold whereas there is still alot of false results showing up therefore the logistic model yields acceptable results whatsoever they are still considered low."
   ]
  },
  {
   "cell_type": "markdown",
   "id": "19e66115",
   "metadata": {},
   "source": [
    "# K-nearest neighbour "
   ]
  },
  {
   "cell_type": "code",
   "execution_count": 156,
   "id": "095536ac",
   "metadata": {},
   "outputs": [],
   "source": [
    "feature_cols = np.array(['age', 'userId', 'movieId','timestamp','genre_code','gender_code','occupation_code'])\n",
    "X = df[feature_cols]\n",
    "y = df['feedback']\n",
    "X_train, X_test, y_train, y_test = train_test_split(X, y, test_size=0.2)"
   ]
  },
  {
   "cell_type": "code",
   "execution_count": 157,
   "id": "e1ef9360",
   "metadata": {},
   "outputs": [
    {
     "name": "stdout",
     "output_type": "stream",
     "text": [
      "Testing accuracy is:  0.6666\n"
     ]
    }
   ],
   "source": [
    "# Create and training a KNN classifier model\n",
    "clf = KNeighborsClassifier(n_neighbors = 11)\n",
    "clf.fit(X_train, y_train)\n",
    "\n",
    "# Use the model to predict testing data\n",
    "y_pred = clf.predict(X_test)\n",
    "accuracy = accuracy_score(y_pred, y_test)\n",
    "print('Testing accuracy is: ', accuracy)"
   ]
  },
  {
   "cell_type": "code",
   "execution_count": 147,
   "id": "c9ca6cd5",
   "metadata": {},
   "outputs": [
    {
     "data": {
      "image/png": "[encoded data removed]",
      "text/plain": [
       "<Figure size 432x288 with 1 Axes>"
      ]
     },
     "metadata": {},
     "output_type": "display_data"
    }
   ],
   "source": [
    "training_error=list()\n",
    "testing_error=list()\n",
    "\n",
    "for i in range(1, 15):\n",
    "    clf = KNeighborsClassifier(n_neighbors = i)\n",
    "    clf.fit(X_train, y_train)\n",
    "    training_error.append(1.0-accuracy_score(clf.predict(X_train), y_train))\n",
    "    testing_error.append(1.0-accuracy_score(clf.predict(X_test), y_test))\n",
    "\n",
    "# Plot the relationship\n",
    "plt.plot(range(1, 15), training_error, marker='x', label='Trainining Error')\n",
    "plt.plot(range(1, 15), testing_error, marker='o', label='Testing Error')\n",
    "plt.xlabel('K')\n",
    "plt.ylabel('Error')\n",
    "plt.legend(loc='best')\n",
    "plt.show()"
   ]
  },
  {
   "cell_type": "code",
   "execution_count": 148,
   "id": "34e037e2",
   "metadata": {},
   "outputs": [
    {
     "name": "stdout",
     "output_type": "stream",
     "text": [
      "Best K value:  11\n",
      "The accuracy:  0.66265\n"
     ]
    }
   ],
   "source": [
    "# Define search space for parameters\n",
    "parameter_grid = {'n_neighbors': range(1, 12)}\n",
    "\n",
    "# Create the machine learning model\n",
    "knn_clf = KNeighborsClassifier()\n",
    "clf = GridSearchCV(knn_clf, parameter_grid, scoring='accuracy', cv=10)\n",
    "clf.fit(X_train, y_train)\n",
    "\n",
    "# Identify the best parameter(s)\n",
    "print('Best K value: ', clf.best_params_['n_neighbors'])\n",
    "print('The accuracy: ', clf.best_score_)"
   ]
  },
  {
   "cell_type": "code",
   "execution_count": 149,
   "id": "9c4387d6",
   "metadata": {},
   "outputs": [
    {
     "name": "stdout",
     "output_type": "stream",
     "text": [
      "Accuracy for each round: \n",
      " [0.660875 0.66     0.6785   0.657875 0.6625   0.660875 0.664875 0.67075\n",
      " 0.657625 0.652625]\n",
      "Average accuracy: 0.6626 +- 0.0070\n"
     ]
    }
   ],
   "source": [
    "# Create a KNN classifier model and use k-fold cross validation for testing accuracy estimation\n",
    "clf = KNeighborsClassifier(n_neighbors = 11)\n",
    "scores = cross_val_score(clf, X_train, y_train, cv=10)\n",
    "print('Accuracy for each round: \\n', scores)\n",
    "print('Average accuracy: %.4f +- %.4f' % (scores.mean(), scores.std()))"
   ]
  },
  {
   "cell_type": "markdown",
   "id": "2f324a3e",
   "metadata": {},
   "source": [
    "## comparison of models"
   ]
  },
  {
   "cell_type": "code",
   "execution_count": 159,
   "id": "15bc6f3d",
   "metadata": {},
   "outputs": [
    {
     "data": {
      "text/plain": [
       "<BarContainer object of 2 artists>"
      ]
     },
     "execution_count": 159,
     "metadata": {},
     "output_type": "execute_result"
    },
    {
     "data": {
      "image/png": "[encoded data removed]",
      "text/plain": [
       "<Figure size 648x360 with 1 Axes>"
      ]
     },
     "metadata": {},
     "output_type": "display_data"
    }
   ],
   "source": [
    "#create a dataset with the accuracy score of both models\n",
    "accuracy_df = pd.DataFrame({'accuracy score': [train_score,accuracy]}, index=['training_accuracy', 'knn'])\n",
    "\n",
    "\n",
    "#visualise the models\n",
    "sns.set(style=\"whitegrid\")\n",
    "plt.figure(figsize=(9,5))\n",
    "plt.ylim(0,1)\n",
    "plt.xlabel('Different models', size=15)\n",
    "plt.ylabel('accuracy', size=15)\n",
    "plt.title(\"accuracy of different models\", size=15)\n",
    "plt.bar(data=accuracy_df, height='accuracy score', x=['logistic regression', 'KNN'], color='c')\n",
    "\n"
   ]
  },
  {
   "cell_type": "markdown",
   "id": "0679a365",
   "metadata": {},
   "source": [
    "## the KNN model had an accuracy of around 0.66 which is acceptable meanwhile the logistic regression model had an accuracy of around 0.55 which is greatly lower than the KNN method and therefore the KNN method is the more suitable one for this data."
   ]
  }
 ],
 "metadata": {
  "kernelspec": {
   "display_name": "Python 3 (ipykernel)",
   "language": "python",
   "name": "python3"
  },
  "language_info": {
   "codemirror_mode": {
    "name": "ipython",
    "version": 3
   },
   "file_extension": ".py",
   "mimetype": "text/x-python",
   "name": "python",
   "nbconvert_exporter": "python",
   "pygments_lexer": "ipython3",
   "version": "3.9.7"
  }
 },
 "nbformat": 4,
 "nbformat_minor": 5
}
