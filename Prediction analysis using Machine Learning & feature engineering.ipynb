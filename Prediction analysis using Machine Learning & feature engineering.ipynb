{
 "cells": [
  {
   "cell_type": "markdown",
   "id": "74bd35d7",
   "metadata": {},
   "source": [
    "## Portfolio Part 2"
   ]
  },
  {
   "cell_type": "markdown",
   "id": "b154a46c",
   "metadata": {},
   "source": [
    "The goal of the second Portfolio task is to train linear regression models to predict users' ratings towards movies. This involves a standard Data Science workflow: exploring data, building models, making predictions, and evaluating results. In this task, we will explore the impacts of feature selections and different sizes of training/testing data on the model performance. I will continue using the movielens dataset"
   ]
  },
  {
   "cell_type": "code",
   "execution_count": 44,
   "id": "88303c5c",
   "metadata": {},
   "outputs": [],
   "source": [
    "import pandas as pd\n",
    "import numpy as np\n",
    "from sklearn.model_selection import train_test_split\n",
    "from sklearn import linear_model\n",
    "from sklearn.metrics import r2_score\n",
    "\n",
    "import seaborn as sns\n",
    "import matplotlib.pyplot as plt\n",
    "%matplotlib inline"
   ]
  },
  {
   "cell_type": "code",
   "execution_count": 48,
   "id": "77e7deaa",
   "metadata": {},
   "outputs": [],
   "source": [
    "# renaming and importing the movielens_data_clean file\n",
    "original_df = pd.read_csv('movielens_data_clean.csv')"
   ]
  },
  {
   "cell_type": "code",
   "execution_count": 46,
   "id": "bd2e4510",
   "metadata": {},
   "outputs": [
    {
     "name": "stdout",
     "output_type": "stream",
     "text": [
      "the length of the new data : 96854\n"
     ]
    }
   ],
   "source": [
    "print(\"the length of the new data :\",len(original_df))"
   ]
  },
  {
   "cell_type": "markdown",
   "id": "2a656b42",
   "metadata": {},
   "source": [
    "### Explore the Dataset\n"
   ]
  },
  {
   "cell_type": "code",
   "execution_count": 47,
   "id": "b722522d",
   "metadata": {},
   "outputs": [
    {
     "data": {
      "text/html": [
       "<div>\n",
       "<style scoped>\n",
       "    .dataframe tbody tr th:only-of-type {\n",
       "        vertical-align: middle;\n",
       "    }\n",
       "\n",
       "    .dataframe tbody tr th {\n",
       "        vertical-align: top;\n",
       "    }\n",
       "\n",
       "    .dataframe thead th {\n",
       "        text-align: right;\n",
       "    }\n",
       "</style>\n",
       "<table border=\"1\" class=\"dataframe\">\n",
       "  <thead>\n",
       "    <tr style=\"text-align: right;\">\n",
       "      <th></th>\n",
       "      <th>userId</th>\n",
       "      <th>age</th>\n",
       "      <th>gender</th>\n",
       "      <th>occupation</th>\n",
       "      <th>movieId</th>\n",
       "      <th>rating</th>\n",
       "      <th>genre</th>\n",
       "      <th>timestamp</th>\n",
       "    </tr>\n",
       "  </thead>\n",
       "  <tbody>\n",
       "    <tr>\n",
       "      <th>0</th>\n",
       "      <td>196</td>\n",
       "      <td>49.0</td>\n",
       "      <td>M</td>\n",
       "      <td>writer</td>\n",
       "      <td>242</td>\n",
       "      <td>3.0</td>\n",
       "      <td>Comedy</td>\n",
       "      <td>881250949</td>\n",
       "    </tr>\n",
       "    <tr>\n",
       "      <th>1</th>\n",
       "      <td>22</td>\n",
       "      <td>25.0</td>\n",
       "      <td>M</td>\n",
       "      <td>writer</td>\n",
       "      <td>377</td>\n",
       "      <td>1.0</td>\n",
       "      <td>Children</td>\n",
       "      <td>878887116</td>\n",
       "    </tr>\n",
       "    <tr>\n",
       "      <th>2</th>\n",
       "      <td>244</td>\n",
       "      <td>28.0</td>\n",
       "      <td>M</td>\n",
       "      <td>technician</td>\n",
       "      <td>51</td>\n",
       "      <td>2.0</td>\n",
       "      <td>Romance</td>\n",
       "      <td>880606923</td>\n",
       "    </tr>\n",
       "    <tr>\n",
       "      <th>3</th>\n",
       "      <td>298</td>\n",
       "      <td>44.0</td>\n",
       "      <td>M</td>\n",
       "      <td>executive</td>\n",
       "      <td>474</td>\n",
       "      <td>4.0</td>\n",
       "      <td>War</td>\n",
       "      <td>884182806</td>\n",
       "    </tr>\n",
       "    <tr>\n",
       "      <th>4</th>\n",
       "      <td>253</td>\n",
       "      <td>26.0</td>\n",
       "      <td>F</td>\n",
       "      <td>librarian</td>\n",
       "      <td>465</td>\n",
       "      <td>5.0</td>\n",
       "      <td>Adventure</td>\n",
       "      <td>891628467</td>\n",
       "    </tr>\n",
       "  </tbody>\n",
       "</table>\n",
       "</div>"
      ],
      "text/plain": [
       "   userId   age gender  occupation  movieId  rating      genre  timestamp\n",
       "0     196  49.0      M      writer      242     3.0     Comedy  881250949\n",
       "1      22  25.0      M      writer      377     1.0   Children  878887116\n",
       "2     244  28.0      M  technician       51     2.0    Romance  880606923\n",
       "3     298  44.0      M   executive      474     4.0        War  884182806\n",
       "4     253  26.0      F   librarian      465     5.0  Adventure  891628467"
      ]
     },
     "execution_count": 47,
     "metadata": {},
     "output_type": "execute_result"
    }
   ],
   "source": [
    "original_df.head()"
   ]
  },
  {
   "cell_type": "code",
   "execution_count": 5,
   "id": "75f078cc",
   "metadata": {},
   "outputs": [
    {
     "name": "stdout",
     "output_type": "stream",
     "text": [
      "<class 'pandas.core.frame.DataFrame'>\n",
      "RangeIndex: 96854 entries, 0 to 96853\n",
      "Data columns (total 8 columns):\n",
      " #   Column      Non-Null Count  Dtype  \n",
      "---  ------      --------------  -----  \n",
      " 0   userId      96854 non-null  int64  \n",
      " 1   age         96854 non-null  float64\n",
      " 2   gender      96854 non-null  object \n",
      " 3   occupation  96854 non-null  object \n",
      " 4   movieId     96854 non-null  int64  \n",
      " 5   rating      96854 non-null  float64\n",
      " 6   genre       96854 non-null  object \n",
      " 7   timestamp   96854 non-null  int64  \n",
      "dtypes: float64(2), int64(3), object(3)\n",
      "memory usage: 5.9+ MB\n"
     ]
    }
   ],
   "source": [
    "original_df.info()"
   ]
  },
  {
   "cell_type": "code",
   "execution_count": 6,
   "id": "370a6cdd",
   "metadata": {
    "scrolled": true
   },
   "outputs": [
    {
     "data": {
      "text/plain": [
       "userId          int64\n",
       "age           float64\n",
       "gender         object\n",
       "occupation     object\n",
       "movieId         int64\n",
       "rating        float64\n",
       "genre          object\n",
       "timestamp       int64\n",
       "dtype: object"
      ]
     },
     "execution_count": 6,
     "metadata": {},
     "output_type": "execute_result"
    }
   ],
   "source": [
    "original_df.dtypes"
   ]
  },
  {
   "cell_type": "code",
   "execution_count": 7,
   "id": "3e67232c",
   "metadata": {},
   "outputs": [
    {
     "data": {
      "text/html": [
       "<div>\n",
       "<style scoped>\n",
       "    .dataframe tbody tr th:only-of-type {\n",
       "        vertical-align: middle;\n",
       "    }\n",
       "\n",
       "    .dataframe tbody tr th {\n",
       "        vertical-align: top;\n",
       "    }\n",
       "\n",
       "    .dataframe thead th {\n",
       "        text-align: right;\n",
       "    }\n",
       "</style>\n",
       "<table border=\"1\" class=\"dataframe\">\n",
       "  <thead>\n",
       "    <tr style=\"text-align: right;\">\n",
       "      <th></th>\n",
       "      <th>age</th>\n",
       "      <th>gender</th>\n",
       "      <th>occupation</th>\n",
       "      <th>rating</th>\n",
       "      <th>genre</th>\n",
       "    </tr>\n",
       "  </thead>\n",
       "  <tbody>\n",
       "    <tr>\n",
       "      <th>0</th>\n",
       "      <td>49.0</td>\n",
       "      <td>M</td>\n",
       "      <td>writer</td>\n",
       "      <td>3.0</td>\n",
       "      <td>Comedy</td>\n",
       "    </tr>\n",
       "    <tr>\n",
       "      <th>1</th>\n",
       "      <td>25.0</td>\n",
       "      <td>M</td>\n",
       "      <td>writer</td>\n",
       "      <td>1.0</td>\n",
       "      <td>Children</td>\n",
       "    </tr>\n",
       "    <tr>\n",
       "      <th>2</th>\n",
       "      <td>28.0</td>\n",
       "      <td>M</td>\n",
       "      <td>technician</td>\n",
       "      <td>2.0</td>\n",
       "      <td>Romance</td>\n",
       "    </tr>\n",
       "    <tr>\n",
       "      <th>3</th>\n",
       "      <td>44.0</td>\n",
       "      <td>M</td>\n",
       "      <td>executive</td>\n",
       "      <td>4.0</td>\n",
       "      <td>War</td>\n",
       "    </tr>\n",
       "    <tr>\n",
       "      <th>4</th>\n",
       "      <td>26.0</td>\n",
       "      <td>F</td>\n",
       "      <td>librarian</td>\n",
       "      <td>5.0</td>\n",
       "      <td>Adventure</td>\n",
       "    </tr>\n",
       "  </tbody>\n",
       "</table>\n",
       "</div>"
      ],
      "text/plain": [
       "    age gender  occupation  rating      genre\n",
       "0  49.0      M      writer     3.0     Comedy\n",
       "1  25.0      M      writer     1.0   Children\n",
       "2  28.0      M  technician     2.0    Romance\n",
       "3  44.0      M   executive     4.0        War\n",
       "4  26.0      F   librarian     5.0  Adventure"
      ]
     },
     "execution_count": 7,
     "metadata": {},
     "output_type": "execute_result"
    }
   ],
   "source": [
    "#drop all unwanted attributes from the dataframe\n",
    "\n",
    "original_df_corr = original_df.drop(['userId','movieId','timestamp'],axis=1)\n",
    "original_df_corr.head()"
   ]
  },
  {
   "cell_type": "code",
   "execution_count": 8,
   "id": "4b464da5",
   "metadata": {},
   "outputs": [
    {
     "data": {
      "text/plain": [
       "age            float64\n",
       "gender        category\n",
       "occupation    category\n",
       "rating         float64\n",
       "genre         category\n",
       "dtype: object"
      ]
     },
     "execution_count": 8,
     "metadata": {},
     "output_type": "execute_result"
    }
   ],
   "source": [
    "#change data type into categorical from object\n",
    "\n",
    "original_df_corr[\"occupation\"] = original_df_corr[\"occupation\"].astype('category')\n",
    "original_df_corr[\"genre\"] = original_df_corr[\"genre\"].astype('category')\n",
    "original_df_corr[\"gender\"] = original_df_corr[\"gender\"].astype('category')\n",
    "\n",
    "\n",
    "original_df_corr.dtypes"
   ]
  },
  {
   "cell_type": "code",
   "execution_count": 9,
   "id": "140e494b",
   "metadata": {
    "scrolled": true
   },
   "outputs": [
    {
     "data": {
      "text/html": [
       "<div>\n",
       "<style scoped>\n",
       "    .dataframe tbody tr th:only-of-type {\n",
       "        vertical-align: middle;\n",
       "    }\n",
       "\n",
       "    .dataframe tbody tr th {\n",
       "        vertical-align: top;\n",
       "    }\n",
       "\n",
       "    .dataframe thead th {\n",
       "        text-align: right;\n",
       "    }\n",
       "</style>\n",
       "<table border=\"1\" class=\"dataframe\">\n",
       "  <thead>\n",
       "    <tr style=\"text-align: right;\">\n",
       "      <th></th>\n",
       "      <th>age</th>\n",
       "      <th>gender</th>\n",
       "      <th>occupation</th>\n",
       "      <th>rating</th>\n",
       "      <th>genre</th>\n",
       "      <th>occupation.cat</th>\n",
       "      <th>genre.cat</th>\n",
       "      <th>gender.cat</th>\n",
       "    </tr>\n",
       "  </thead>\n",
       "  <tbody>\n",
       "    <tr>\n",
       "      <th>0</th>\n",
       "      <td>49.0</td>\n",
       "      <td>M</td>\n",
       "      <td>writer</td>\n",
       "      <td>3.0</td>\n",
       "      <td>Comedy</td>\n",
       "      <td>19</td>\n",
       "      <td>4</td>\n",
       "      <td>1</td>\n",
       "    </tr>\n",
       "    <tr>\n",
       "      <th>1</th>\n",
       "      <td>25.0</td>\n",
       "      <td>M</td>\n",
       "      <td>writer</td>\n",
       "      <td>1.0</td>\n",
       "      <td>Children</td>\n",
       "      <td>19</td>\n",
       "      <td>3</td>\n",
       "      <td>1</td>\n",
       "    </tr>\n",
       "    <tr>\n",
       "      <th>2</th>\n",
       "      <td>28.0</td>\n",
       "      <td>M</td>\n",
       "      <td>technician</td>\n",
       "      <td>2.0</td>\n",
       "      <td>Romance</td>\n",
       "      <td>18</td>\n",
       "      <td>13</td>\n",
       "      <td>1</td>\n",
       "    </tr>\n",
       "    <tr>\n",
       "      <th>3</th>\n",
       "      <td>44.0</td>\n",
       "      <td>M</td>\n",
       "      <td>executive</td>\n",
       "      <td>4.0</td>\n",
       "      <td>War</td>\n",
       "      <td>6</td>\n",
       "      <td>16</td>\n",
       "      <td>1</td>\n",
       "    </tr>\n",
       "    <tr>\n",
       "      <th>4</th>\n",
       "      <td>26.0</td>\n",
       "      <td>F</td>\n",
       "      <td>librarian</td>\n",
       "      <td>5.0</td>\n",
       "      <td>Adventure</td>\n",
       "      <td>10</td>\n",
       "      <td>1</td>\n",
       "      <td>0</td>\n",
       "    </tr>\n",
       "  </tbody>\n",
       "</table>\n",
       "</div>"
      ],
      "text/plain": [
       "    age gender  occupation  rating      genre  occupation.cat  genre.cat  \\\n",
       "0  49.0      M      writer     3.0     Comedy              19          4   \n",
       "1  25.0      M      writer     1.0   Children              19          3   \n",
       "2  28.0      M  technician     2.0    Romance              18         13   \n",
       "3  44.0      M   executive     4.0        War               6         16   \n",
       "4  26.0      F   librarian     5.0  Adventure              10          1   \n",
       "\n",
       "   gender.cat  \n",
       "0           1  \n",
       "1           1  \n",
       "2           1  \n",
       "3           1  \n",
       "4           0  "
      ]
     },
     "execution_count": 9,
     "metadata": {},
     "output_type": "execute_result"
    }
   ],
   "source": [
    "#change datatype into numerical from categorical\n",
    "\n",
    "original_df_corr[\"occupation.cat\"] = original_df_corr[\"occupation\"].cat.codes\n",
    "original_df_corr[\"genre.cat\"] = original_df_corr[\"genre\"].cat.codes\n",
    "original_df_corr[\"gender.cat\"] = original_df_corr[\"gender\"].cat.codes\n",
    "\n",
    "original_df_corr.head()"
   ]
  },
  {
   "cell_type": "code",
   "execution_count": 10,
   "id": "87415cc6",
   "metadata": {},
   "outputs": [
    {
     "data": {
      "text/html": [
       "<div>\n",
       "<style scoped>\n",
       "    .dataframe tbody tr th:only-of-type {\n",
       "        vertical-align: middle;\n",
       "    }\n",
       "\n",
       "    .dataframe tbody tr th {\n",
       "        vertical-align: top;\n",
       "    }\n",
       "\n",
       "    .dataframe thead th {\n",
       "        text-align: right;\n",
       "    }\n",
       "</style>\n",
       "<table border=\"1\" class=\"dataframe\">\n",
       "  <thead>\n",
       "    <tr style=\"text-align: right;\">\n",
       "      <th></th>\n",
       "      <th>age</th>\n",
       "      <th>rating</th>\n",
       "      <th>occupation.cat</th>\n",
       "      <th>genre.cat</th>\n",
       "      <th>gender.cat</th>\n",
       "    </tr>\n",
       "  </thead>\n",
       "  <tbody>\n",
       "    <tr>\n",
       "      <th>age</th>\n",
       "      <td>1.000000</td>\n",
       "      <td>0.051724</td>\n",
       "      <td>-0.370879</td>\n",
       "      <td>0.027286</td>\n",
       "      <td>0.037126</td>\n",
       "    </tr>\n",
       "    <tr>\n",
       "      <th>rating</th>\n",
       "      <td>0.051724</td>\n",
       "      <td>1.000000</td>\n",
       "      <td>-0.033717</td>\n",
       "      <td>0.045250</td>\n",
       "      <td>-0.007239</td>\n",
       "    </tr>\n",
       "    <tr>\n",
       "      <th>occupation.cat</th>\n",
       "      <td>-0.370879</td>\n",
       "      <td>-0.033717</td>\n",
       "      <td>1.000000</td>\n",
       "      <td>-0.011443</td>\n",
       "      <td>0.012117</td>\n",
       "    </tr>\n",
       "    <tr>\n",
       "      <th>genre.cat</th>\n",
       "      <td>0.027286</td>\n",
       "      <td>0.045250</td>\n",
       "      <td>-0.011443</td>\n",
       "      <td>1.000000</td>\n",
       "      <td>-0.000509</td>\n",
       "    </tr>\n",
       "    <tr>\n",
       "      <th>gender.cat</th>\n",
       "      <td>0.037126</td>\n",
       "      <td>-0.007239</td>\n",
       "      <td>0.012117</td>\n",
       "      <td>-0.000509</td>\n",
       "      <td>1.000000</td>\n",
       "    </tr>\n",
       "  </tbody>\n",
       "</table>\n",
       "</div>"
      ],
      "text/plain": [
       "                     age    rating  occupation.cat  genre.cat  gender.cat\n",
       "age             1.000000  0.051724       -0.370879   0.027286    0.037126\n",
       "rating          0.051724  1.000000       -0.033717   0.045250   -0.007239\n",
       "occupation.cat -0.370879 -0.033717        1.000000  -0.011443    0.012117\n",
       "genre.cat       0.027286  0.045250       -0.011443   1.000000   -0.000509\n",
       "gender.cat      0.037126 -0.007239        0.012117  -0.000509    1.000000"
      ]
     },
     "execution_count": 10,
     "metadata": {},
     "output_type": "execute_result"
    }
   ],
   "source": [
    "# correlation between the attributes \n",
    "\n",
    "original_df_corr.corr()"
   ]
  },
  {
   "cell_type": "markdown",
   "id": "ecd383d3",
   "metadata": {},
   "source": [
    "### conclusion for correlation:\n",
    " \n",
    " After analysing the data for correlation of rating with age/gender/occupation/genre , we can conclude that the most correlated \n",
    " type with rating was age followed by genre meanwhile occupation and gender where the least correlated . However occupation still had a little more correlation with rating compared to gender. In addition, age and genre will have the best predicition model for rating since they have a higher correlation meanwhile occupation and gender will probably have the worse models."
   ]
  },
  {
   "cell_type": "markdown",
   "id": "7606c849",
   "metadata": {},
   "source": [
    "### Split Training and Testing Data\n"
   ]
  },
  {
   "cell_type": "code",
   "execution_count": 11,
   "id": "f8eeeec6",
   "metadata": {},
   "outputs": [
    {
     "name": "stdout",
     "output_type": "stream",
     "text": [
      "shape of the training data in case 1: (9685, 8)\n",
      "shape of the testing data in case 1: (87169, 8)\n"
     ]
    }
   ],
   "source": [
    "# case 1\n",
    "x1_train, y1_test = train_test_split(original_df_corr, test_size=0.9, random_state=142)\n",
    "print(\"shape of the training data in case 1:\",x1_train.shape)\n",
    "print(\"shape of the testing data in case 1:\",y1_test.shape)\n"
   ]
  },
  {
   "cell_type": "code",
   "execution_count": 12,
   "id": "9ff08cd9",
   "metadata": {},
   "outputs": [
    {
     "name": "stdout",
     "output_type": "stream",
     "text": [
      "shape of the training data in case 2: (87168, 8)\n",
      "shape of the testing data in case 2: (9686, 8)\n"
     ]
    }
   ],
   "source": [
    "#case 2\n",
    "X2_train, Y2_test = train_test_split(original_df_corr, test_size=0.1, random_state=142)\n",
    "print(\"shape of the training data in case 2:\",X2_train.shape)\n",
    "print(\"shape of the testing data in case 2:\",Y2_test.shape)"
   ]
  },
  {
   "cell_type": "markdown",
   "id": "14600224",
   "metadata": {},
   "source": [
    "### Train Linear Regression Models with Feature Selection "
   ]
  },
  {
   "cell_type": "code",
   "execution_count": 13,
   "id": "bee417e0",
   "metadata": {
    "scrolled": true
   },
   "outputs": [
    {
     "data": {
      "text/plain": [
       "LinearRegression()"
      ]
     },
     "execution_count": 13,
     "metadata": {},
     "output_type": "execute_result"
    }
   ],
   "source": [
    "# train model-a\n",
    "\n",
    "description1 = ['age', 'genre.cat']\n",
    "\n",
    "x1_train = original_df_corr[description1]\n",
    "y1_train = original_df_corr['rating']\n",
    "\n",
    "x1_test = original_df_corr[description1]\n",
    "y1_test = original_df_corr['rating']\n",
    "\n",
    "reg1 = linear_model.LinearRegression()\n",
    "reg1.fit(x1_train,y1_train)\n"
   ]
  },
  {
   "cell_type": "code",
   "execution_count": 14,
   "id": "c242b894",
   "metadata": {},
   "outputs": [
    {
     "data": {
      "text/plain": [
       "LinearRegression()"
      ]
     },
     "execution_count": 14,
     "metadata": {},
     "output_type": "execute_result"
    }
   ],
   "source": [
    "# train model-b\n",
    "\n",
    "description2 = ['occupation.cat', 'gender.cat']\n",
    "\n",
    "x1_b_train = original_df_corr[description2]\n",
    "y1_b_train = original_df_corr['rating']\n",
    "\n",
    "x1_b_test = original_df_corr[description2]\n",
    "y1_b_test = original_df_corr['rating']\n",
    "\n",
    "reg2 = linear_model.LinearRegression()\n",
    "reg2.fit(x1_b_train,y1_b_train)\n"
   ]
  },
  {
   "cell_type": "code",
   "execution_count": 15,
   "id": "5b32cfdb",
   "metadata": {},
   "outputs": [
    {
     "data": {
      "text/plain": [
       "LinearRegression()"
      ]
     },
     "execution_count": 15,
     "metadata": {},
     "output_type": "execute_result"
    }
   ],
   "source": [
    "# train model-c\n",
    "\n",
    "description3 = ['age', 'gender.cat']\n",
    "\n",
    "X2_train = original_df_corr[description3]\n",
    "Y2_train = original_df_corr['rating']\n",
    "\n",
    "X2_test = original_df_corr[description3]\n",
    "Y2_test = original_df_corr['rating']\n",
    "\n",
    "reg3 = linear_model.LinearRegression()\n",
    "reg3.fit(X2_train,Y2_train)\n"
   ]
  },
  {
   "cell_type": "code",
   "execution_count": 16,
   "id": "38161bfc",
   "metadata": {},
   "outputs": [
    {
     "data": {
      "text/plain": [
       "LinearRegression()"
      ]
     },
     "execution_count": 16,
     "metadata": {},
     "output_type": "execute_result"
    }
   ],
   "source": [
    "# train model-d\n",
    "\n",
    "description4 = ['occupation.cat', 'gender.cat']\n",
    "\n",
    "X2_d_train = original_df_corr[description4]\n",
    "Y2_d_train = original_df_corr['rating']\n",
    "\n",
    "X2_d_test = original_df_corr[description4]\n",
    "Y2_d_test = original_df_corr['rating']\n",
    "\n",
    "reg4 = linear_model.LinearRegression()\n",
    "reg4.fit(X2_d_train,Y2_d_train)\n"
   ]
  },
  {
   "cell_type": "markdown",
   "id": "f85c7279",
   "metadata": {},
   "source": [
    "### Evaluate Models\n",
    "* We will Evaluate the performance of the four models with two metrics, including MSE and Root MSE\n"
   ]
  },
  {
   "cell_type": "code",
   "execution_count": 17,
   "id": "ecc88e5a",
   "metadata": {},
   "outputs": [
    {
     "name": "stdout",
     "output_type": "stream",
     "text": [
      "MSE: 1.2397839161335455\n",
      "Root MSE: 1.11345584381849\n",
      "R Squared: 0.004598586480398459\n"
     ]
    }
   ],
   "source": [
    "# evaluate model-a\n",
    "\n",
    "predicted1 = reg1.predict(x1_test)\n",
    "mse = ((np.array(y1_test)-predicted1)**2).sum()/len(y1_test)\n",
    "r2 = r2_score(y1_test, predicted1)\n",
    "print(\"MSE:\", mse)\n",
    "print(\"Root MSE:\", np.sqrt(mse))\n",
    "print(\"R Squared:\", r2)"
   ]
  },
  {
   "cell_type": "code",
   "execution_count": 18,
   "id": "b4360e7f",
   "metadata": {},
   "outputs": [
    {
     "name": "stdout",
     "output_type": "stream",
     "text": [
      "MSE: 1.2440374496703286\n",
      "Root MSE: 1.1153642677037527\n",
      "R Squared: 0.0011834967701116472\n"
     ]
    }
   ],
   "source": [
    "# evaluate model-b\n",
    "\n",
    "predicted2 = reg2.predict(x1_b_test)\n",
    "mse_2 = ((np.array(y1_b_test)-predicted2)**2).sum()/len(y1_b_test)\n",
    "r2_2 = r2_score(y1_b_test, predicted2)\n",
    "print(\"MSE:\", mse_2)\n",
    "print(\"Root MSE:\", np.sqrt(mse_2))\n",
    "print(\"R Squared:\", r2_2)"
   ]
  },
  {
   "cell_type": "code",
   "execution_count": 20,
   "id": "8e6c062c",
   "metadata": {},
   "outputs": [
    {
     "name": "stdout",
     "output_type": "stream",
     "text": [
      "MSE: 1.2420747229567661\n",
      "Root MSE: 1.1144840613291722\n",
      "R Squared: 0.0027593366560858534\n"
     ]
    }
   ],
   "source": [
    "# evaluate model-c\n",
    "\n",
    "predicted3 = reg3.predict(X2_test)\n",
    "mse_3 = ((np.array(Y2_test)-predicted3)**2).sum()/len(Y2_test)\n",
    "r2_3 = r2_score(Y2_test, predicted3)\n",
    "print(\"MSE:\", mse_3)\n",
    "print(\"Root MSE:\", np.sqrt(mse_3))\n",
    "print(\"R Squared:\", r2_3)"
   ]
  },
  {
   "cell_type": "code",
   "execution_count": 21,
   "id": "53da2f2e",
   "metadata": {},
   "outputs": [
    {
     "name": "stdout",
     "output_type": "stream",
     "text": [
      "MSE: 1.2440374496703286\n",
      "Root MSE: 1.1153642677037527\n",
      "R Squared: 0.0011834967701116472\n"
     ]
    }
   ],
   "source": [
    "# evaluate model-d\n",
    "\n",
    "predicted4 = reg4.predict(X2_d_test)\n",
    "mse_4 = ((np.array(Y2_d_test)-predicted4)**2).sum()/len(Y2_d_test)\n",
    "r2_4 = r2_score(Y2_d_test, predicted4)\n",
    "print(\"MSE:\", mse_4)\n",
    "print(\"Root MSE:\", np.sqrt(mse_4))\n",
    "print(\"R Squared:\", r2_4)"
   ]
  },
  {
   "cell_type": "markdown",
   "id": "8c614fb5",
   "metadata": {},
   "source": [
    "### Visualise, Compare and Analyze the Results\n",
    "* Visulize the results, and perform ___insightful analysis___ on the obtained results. For better visualization, you may need to carefully set the scale for the y-axis.\n",
    "* Normally, the model trained with most correlated features and more training data will get better results. Do you obtain the similar observations? If not, please ___explain the possible reasons___."
   ]
  },
  {
   "cell_type": "code",
   "execution_count": 29,
   "id": "29b9988b",
   "metadata": {},
   "outputs": [],
   "source": [
    "# create the MSE data frame to plot\n",
    "MSE_graph = pd.DataFrame({'mse': [mse,mse_2,mse_3,mse_4]},index=['model-a', 'model-b', 'model-c','model-d'])\n",
    "\n",
    "# create the R-sqaured data frame to plot\n",
    "Rsquared_graph = pd.DataFrame({'R-squared': [r2,r2_2,r2_3,r2_4]},index=['model-a', 'model-b', 'model-c','model-d'])\n",
    "\n"
   ]
  },
  {
   "cell_type": "code",
   "execution_count": 43,
   "id": "9c22fd6a",
   "metadata": {},
   "outputs": [
    {
     "data": {
      "text/plain": [
       "(array([0, 1, 2, 3]),\n",
       " [Text(0, 0, 'model-a'),\n",
       "  Text(1, 0, 'model-b'),\n",
       "  Text(2, 0, 'model-c'),\n",
       "  Text(3, 0, 'model-d')])"
      ]
     },
     "execution_count": 43,
     "metadata": {},
     "output_type": "execute_result"
    },
    {
     "data": {
      "image/png": "[encoded data removed]",
      "text/plain": [
       "<Figure size 432x288 with 1 Axes>"
      ]
     },
     "metadata": {
      "needs_background": "light"
     },
     "output_type": "display_data"
    },
    {
     "data": {
      "image/png": "[encoded data removed]",
      "text/plain": [
       "<Figure size 432x288 with 1 Axes>"
      ]
     },
     "metadata": {
      "needs_background": "light"
     },
     "output_type": "display_data"
    }
   ],
   "source": [
    "#plot MSE\n",
    "Rsquared_graph.plot(kind='bar',ylim=(0.001,0.0047),title='R-Squared of each model')\n",
    "plt.xticks(rotation=0)\n",
    "\n",
    "#plot R-squared\n",
    "MSE_graph.plot(kind='bar',ylim=(1.235,1.247),title='MSE of each model')\n",
    "plt.xticks(rotation=0)\n"
   ]
  },
  {
   "cell_type": "markdown",
   "id": "4aa922f9",
   "metadata": {},
   "source": [
    "## analysing the metrics for models according to correlation\n",
    "\n",
    " it can be concluded that the most correlated attributes (model-a and model- c) were the best models in this study, as both had the lowest mean squared error( MSE) and the highest R-sqaured ( as shown in the graphs above) whereas the least correlated attributes had the worst performing model as they had the highest MSE and R-sqaured. "
   ]
  },
  {
   "cell_type": "markdown",
   "id": "29981c8d",
   "metadata": {},
   "source": [
    "## does the training data size affect the study?\n",
    " by comparing the metrics of model-a with model-c and model-b with model-d (since they have the same attributes but different training data size) , we can conclude that in this model , training more data did not yield better results since model-a had a lower MSE and higher R-sqaured tha model-c which had more training data. The reason for this might be that linear regression model might not be the suitable model for this study"
   ]
  }
 ],
 "metadata": {
  "kernelspec": {
   "display_name": "Python [conda env:base] *",
   "language": "python",
   "name": "conda-base-py"
  },
  "language_info": {
   "codemirror_mode": {
    "name": "ipython",
    "version": 3
   },
   "file_extension": ".py",
   "mimetype": "text/x-python",
   "name": "python",
   "nbconvert_exporter": "python",
   "pygments_lexer": "ipython3",
   "version": "3.13.5"
  }
 },
 "nbformat": 4,
 "nbformat_minor": 5
}
