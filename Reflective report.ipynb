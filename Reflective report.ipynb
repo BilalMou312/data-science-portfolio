{
 "cells": [
  {
   "cell_type": "markdown",
   "id": "f49dfc13",
   "metadata": {},
   "source": [
    "## student name: Bilal Moustafa\n",
    "## student id:46990259\n",
    "## Reflective Report"
   ]
  },
  {
   "cell_type": "markdown",
   "id": "acbd5e58",
   "metadata": {},
   "source": [
    "   At the start of using notebook, it looked really simple to use one unlike other programming software’s such as eclipse which were more complicated at the start for a beginner like me. As we progressed with the semester, notebooks became easier to use as there is nothing really complicated about them. for example, in the start of the semester we were taught how to run code in chunks, Markdown and the basics of the notebook which what we as students used to finish all of our assessments throughout the unit, which in term also helped us organize our problems when we wanted to solve them and made it easier to just check the chunk of code to find the error or see the output of a specific code unlike other programming software’s were all code should run at the same time. However when it comes to the way we solve problems in notebooks , we learned that firstly we understand the data, then we clean and explore the data , then we try to figure out which machine learning model we will pick then check their results and finally evaluate and analyse. "
   ]
  },
  {
   "cell_type": "markdown",
   "id": "a1197c5e",
   "metadata": {},
   "source": [
    "   At the start of the unit, I only had the knowledge of basic coding which was obtained from previous coding units, however in this unit we mixed statistics and coding which was the obstacle in the first couple of weeks as it was new to me. But we first started of with the basics of the notebook(Markdown and running codes in their own chunks) and later moved on to some more coding which helped me get used to the notebook and the basics of data science, and then we started off coding basic statistics such as creating graphs which gave me the main idea of what this unit is supposed to me and later in the unit when we became familiar with the basics, we started exploring different models for our dataset which I am still currently trying to expand in. As a business analyst major, this unit gave me the basic idea of how my job will function and what major skills I need to become successful in my future career. Now Using notebooks and some of the knowledge obtained in this unit, I will start building portfolios and conducting studies on random data I find interesting so that I am able to build a proper background to enter the data analyst/ business analyst field. "
   ]
  },
  {
   "cell_type": "markdown",
   "id": "4faa37f7",
   "metadata": {},
   "source": [
    "- Regarding why the Stroke dataset was my chosen data for portfolio part 4 task was because I know the importance of data science in the medical field and how it is booming in these days with the technological advancement we have and how successful data science is becoming when combined with the medical field when it comes to predicting diseases and conducting studies on them which I will definitely face In my career in the future so it is better to start dealing with these types of datasets from now in this unit . Moreover, in this unit we have been dealing with a lot of classification problems which I have found interest in and the stroke dataset that I chose was a classification problem which I was trained for by this unit hence this is why I also found portfolio 4 to be the easiest task in this unit for now. Therefore, my choice for the dataset was because of the type of problem we are facing (classification problem) and the fact that these datasets."
   ]
  },
  {
   "cell_type": "markdown",
   "id": "a2de3d75",
   "metadata": {},
   "source": [
    "- When it comes to the conclusion of my results in the portfolio, I can say that my expectations were expected from the accuracy results of the models that I built since the problem we were dealing with required classification models as the columns in the dataset were mostly categorical features. however, one thing that surprised me was some factors that I thought would help my models predict if a stroke was going to occur were actually not very useful. When I did the correlations with stroke, the BMI (which we usually associate with diseases such as stroke) was in fact not the most helpful when we want to predict a stroke and smoking also had almost no relation with causing a stroke. However, a factor that helped us predict stroke in our logistical regression model, was the average glucose level which I thought should not help us predict a stroke but I was proven wrong. This study proved to me that biological factors that are related to health issues were the most important to help us predict a stroke."
   ]
  }
 ],
 "metadata": {
  "kernelspec": {
   "display_name": "Python 3 (ipykernel)",
   "language": "python",
   "name": "python3"
  },
  "language_info": {
   "codemirror_mode": {
    "name": "ipython",
    "version": 3
   },
   "file_extension": ".py",
   "mimetype": "text/x-python",
   "name": "python",
   "nbconvert_exporter": "python",
   "pygments_lexer": "ipython3",
   "version": "3.9.7"
  }
 },
 "nbformat": 4,
 "nbformat_minor": 5
}
